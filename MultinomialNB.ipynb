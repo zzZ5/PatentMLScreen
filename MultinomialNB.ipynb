{
 "cells": [
  {
   "cell_type": "code",
   "execution_count": 1,
   "metadata": {},
   "outputs": [],
   "source": [
    "import jieba\n",
    "import pandas\n",
    "from scipy import sparse\n",
    "from sklearn.feature_extraction.text import TfidfVectorizer\n",
    "from sklearn.naive_bayes import MultinomialNB\n",
    "from sklearn.pipeline import Pipeline\n",
    "from sklearn.model_selection import train_test_split\n",
    "from sklearn.metrics import classification_report"
   ]
  },
  {
   "cell_type": "code",
   "execution_count": 3,
   "metadata": {},
   "outputs": [],
   "source": [
    "# feature 和 labels 是预处理后的特征和标签\n",
    "features = sparse.load_npz(\"data/patent_verified_tfidf_matrix.npz\")\n",
    "df = pandas.read_csv(\"data/patent_verified.csv\")\n",
    "labels = df[\"y\"].values.tolist()"
   ]
  },
  {
   "cell_type": "code",
   "execution_count": 5,
   "metadata": {},
   "outputs": [
    {
     "name": "stdout",
     "output_type": "stream",
     "text": [
      "              precision    recall  f1-score   support\n",
      "\n",
      "           0       0.83      0.14      0.24        36\n",
      "           1       0.40      1.00      0.57        35\n",
      "           2       0.00      0.00      0.00        22\n",
      "\n",
      "    accuracy                           0.43        93\n",
      "   macro avg       0.41      0.38      0.27        93\n",
      "weighted avg       0.47      0.43      0.31        93\n",
      "\n"
     ]
    },
    {
     "name": "stderr",
     "output_type": "stream",
     "text": [
      "d:\\Program Files\\Python311\\Lib\\site-packages\\sklearn\\metrics\\_classification.py:1471: UndefinedMetricWarning: Precision and F-score are ill-defined and being set to 0.0 in labels with no predicted samples. Use `zero_division` parameter to control this behavior.\n",
      "  _warn_prf(average, modifier, msg_start, len(result))\n",
      "d:\\Program Files\\Python311\\Lib\\site-packages\\sklearn\\metrics\\_classification.py:1471: UndefinedMetricWarning: Precision and F-score are ill-defined and being set to 0.0 in labels with no predicted samples. Use `zero_division` parameter to control this behavior.\n",
      "  _warn_prf(average, modifier, msg_start, len(result))\n",
      "d:\\Program Files\\Python311\\Lib\\site-packages\\sklearn\\metrics\\_classification.py:1471: UndefinedMetricWarning: Precision and F-score are ill-defined and being set to 0.0 in labels with no predicted samples. Use `zero_division` parameter to control this behavior.\n",
      "  _warn_prf(average, modifier, msg_start, len(result))\n"
     ]
    }
   ],
   "source": [
    "# 创建朴素贝叶斯分类器\n",
    "model = MultinomialNB()\n",
    "\n",
    "# 划分训练集和测试集\n",
    "# 这里使用25%的数据作为测试集\n",
    "X_train, X_test, y_train, y_test = train_test_split(features, labels, test_size=0.3, random_state=42)\n",
    "\n",
    "# 训练模型\n",
    "# 模型会先将文本转换为TF-IDF向量，然后用这些向量训练朴素贝叶斯分类器\n",
    "model.fit(X_train, y_train)\n",
    "\n",
    "# 测试模型\n",
    "# 用测试集评估模型的性能\n",
    "predictions = model.predict(X_test)\n",
    "\n",
    "# 打印分类报告\n",
    "# 报告包括精确度、召回率和F1分数\n",
    "report = classification_report(y_test, predictions)\n",
    "print(report)\n"
   ]
  }
 ],
 "metadata": {
  "kernelspec": {
   "display_name": "Python 3",
   "language": "python",
   "name": "python3"
  },
  "language_info": {
   "codemirror_mode": {
    "name": "ipython",
    "version": 3
   },
   "file_extension": ".py",
   "mimetype": "text/x-python",
   "name": "python",
   "nbconvert_exporter": "python",
   "pygments_lexer": "ipython3",
   "version": "3.11.4"
  }
 },
 "nbformat": 4,
 "nbformat_minor": 2
}
