{
 "cells": [
  {
   "cell_type": "code",
   "execution_count": 2,
   "metadata": {},
   "outputs": [],
   "source": [
    "# 导入包\n",
    "import re\n",
    "import nltk\n",
    "from nltk.corpus import stopwords\n",
    "from sklearn.feature_extraction.text import TfidfVectorizer\n",
    "from sklearn.metrics import accuracy_score\n",
    "import jieba\n",
    "import torch\n",
    "import pandas\n",
    "import torch.nn as nn\n",
    "import torch.optim as optim\n",
    "from torch.utils.data import DataLoader, TensorDataset\n",
    "from sklearn.model_selection import train_test_split"
   ]
  },
  {
   "cell_type": "code",
   "execution_count": 3,
   "metadata": {},
   "outputs": [
    {
     "name": "stderr",
     "output_type": "stream",
     "text": [
      "[nltk_data] Downloading package stopwords to\n",
      "[nltk_data]     C:\\Users\\baoju\\AppData\\Roaming\\nltk_data...\n",
      "[nltk_data]   Package stopwords is already up-to-date!\n"
     ]
    },
    {
     "data": {
      "text/plain": [
       "True"
      ]
     },
     "execution_count": 3,
     "metadata": {},
     "output_type": "execute_result"
    }
   ],
   "source": [
    "# 导入数据\n",
    "df = pandas.read_csv(\"patent_verified.csv\")\n",
    "df[\"x\"] = df[\"Application Id\"].map(str) + \" \" + df[\"Application Date\"].map(str) + \" \" + df[\"Publication Date\"].map(str) + \" \" + df[\"Country\"].map(str) + \" \" + df[\"Title\"].map(str) + \" \" + df[\"Abstract\"].map(str) + \" \" + df[\"Applicants\"].map(str) + \" \" + df[\"Inventors\"].map(str)\n",
    "patents = df[\"x\"].values.tolist()\n",
    "labels = df[\"y\"].values.tolist()\n",
    "nltk.download('stopwords')"
   ]
  },
  {
   "cell_type": "code",
   "execution_count": 4,
   "metadata": {},
   "outputs": [
    {
     "name": "stderr",
     "output_type": "stream",
     "text": [
      "Building prefix dict from the default dictionary ...\n",
      "Loading model from cache C:\\Users\\baoju\\AppData\\Local\\Temp\\jieba.cache\n",
      "Loading model cost 0.924 seconds.\n",
      "Prefix dict has been built successfully.\n"
     ]
    }
   ],
   "source": [
    "# 清洗数据\n",
    "\n",
    "def clean_text(text):\n",
    "    text = re.sub(r'\\W', ' ', text)  # 移除特殊字符\n",
    "    text = re.sub(r'\\s+', ' ', text)  # 移除多余空格\n",
    "    return text.lower()\n",
    "\n",
    "# 分语言处理和分词\n",
    "def tokenize(text):\n",
    "    words = []\n",
    "    for word in text.split():\n",
    "        if re.search('[\\u4e00-\\u9fff]', text):  # 检测中文字符      \n",
    "            words.extend(jieba.cut(word))\n",
    "        else:\n",
    "            words.append(word)\n",
    "    return words\n",
    "\n",
    "# 去除停用词\n",
    "def remove_stopwords(words):\n",
    "    stop_words_en = set(stopwords.words('english'))\n",
    "    stop_words_zh = set([\"的\", \"这是\", \"和\", \"...\"])  # 示例中文停用词\n",
    "    return [word for word in words if word not in stop_words_en and word not in stop_words_zh]\n",
    "\n",
    "\n",
    "# 预处理文本\n",
    "processed_texts = []\n",
    "for text in patents:\n",
    "    text = clean_text(text)\n",
    "    words = tokenize(text)\n",
    "    words = remove_stopwords(words)\n",
    "    processed_texts.append(' '.join(words))\n",
    "\n",
    "# 向量化\n",
    "vectorizer = TfidfVectorizer()\n",
    "tfidf_matrix = vectorizer.fit_transform(processed_texts)\n"
   ]
  },
  {
   "cell_type": "code",
   "execution_count": 5,
   "metadata": {},
   "outputs": [],
   "source": [
    "# 创建PyTorch数据集\n",
    "\n",
    "X_train, X_test, y_train, y_test = train_test_split(tfidf_matrix.toarray(), labels, test_size=0.3)\n",
    "X_train_tensor = torch.tensor(X_train, dtype=torch.long)\n",
    "y_train_tensor = torch.tensor(y_train, dtype=torch.float32)\n",
    "train_data = TensorDataset(X_train_tensor, y_train_tensor)\n",
    "train_loader = DataLoader(train_data, batch_size=32, shuffle=True)\n",
    "\n",
    "# 构建 LSTM 网络模型\n",
    "class LSTMClassifier(nn.Module):\n",
    "    def __init__(self, embedding_dim, hidden_dim, vocab_size):\n",
    "        super(LSTMClassifier, self).__init__()\n",
    "        self.embedding = nn.Embedding(vocab_size, embedding_dim)\n",
    "        self.lstm = nn.LSTM(embedding_dim, hidden_dim, batch_first=True)\n",
    "        self.fc = nn.Linear(hidden_dim, 1)\n",
    "        self.sigmoid = nn.Sigmoid()\n",
    "\n",
    "    def forward(self, x):\n",
    "        x = self.embedding(x)\n",
    "        x, _ = self.lstm(x)\n",
    "        x = self.fc(x[:, -1, :])\n",
    "        x = self.sigmoid(x)\n",
    "        return x\n",
    "\n",
    "# 实例化模型\n",
    "model = LSTMClassifier(embedding_dim=100, hidden_dim=128, vocab_size=tfidf_matrix.shape[0])\n",
    "\n",
    "# 损失函数和优化器\n",
    "criterion = nn.BCELoss()\n",
    "optimizer = optim.Adam(model.parameters(), lr=0.001)"
   ]
  },
  {
   "cell_type": "code",
   "execution_count": 6,
   "metadata": {},
   "outputs": [
    {
     "name": "stdout",
     "output_type": "stream",
     "text": [
      "Epoch 1/10, Loss: 0.5286474823951721\n",
      "Epoch 2/10, Loss: -0.13323327898979187\n"
     ]
    }
   ],
   "source": [
    "# 损失函数和优化器\n",
    "criterion = nn.BCELoss()\n",
    "optimizer = optim.Adam(model.parameters(), lr=0.001)\n",
    "\n",
    "# 训练模型\n",
    "num_epochs = 10\n",
    "for epoch in range(num_epochs):\n",
    "    for inputs, labels in train_loader:\n",
    "        # 前向传播\n",
    "        outputs = model(inputs)\n",
    "        loss = criterion(outputs.squeeze(), labels)\n",
    "\n",
    "        # 反向传播和优化\n",
    "        optimizer.zero_grad()\n",
    "        loss.backward()\n",
    "        optimizer.step()\n",
    "    print(f'Epoch {epoch+1}/{num_epochs}, Loss: {loss.item()}')\n",
    "    if loss.item() < 0.15:\n",
    "        break"
   ]
  },
  {
   "cell_type": "code",
   "execution_count": 7,
   "metadata": {},
   "outputs": [
    {
     "name": "stdout",
     "output_type": "stream",
     "text": [
      "Test Accuracy: 0.4838709677419355\n"
     ]
    }
   ],
   "source": [
    "\n",
    "X_test_tensor = torch.tensor(X_test, dtype=torch.long)\n",
    "y_test_tensor = torch.tensor(y_test, dtype=torch.float32)\n",
    "\n",
    "model.eval()\n",
    "with torch.no_grad():\n",
    "    outputs = model(X_test_tensor)\n",
    "    predicted = (outputs.squeeze() > 0.5).float()\n",
    "    accuracy = accuracy_score(y_test_tensor, predicted)\n",
    "    print(f'Test Accuracy: {accuracy}')"
   ]
  }
 ],
 "metadata": {
  "kernelspec": {
   "display_name": "Python 3",
   "language": "python",
   "name": "python3"
  },
  "language_info": {
   "codemirror_mode": {
    "name": "ipython",
    "version": 3
   },
   "file_extension": ".py",
   "mimetype": "text/x-python",
   "name": "python",
   "nbconvert_exporter": "python",
   "pygments_lexer": "ipython3",
   "version": "3.11.4"
  }
 },
 "nbformat": 4,
 "nbformat_minor": 2
}
