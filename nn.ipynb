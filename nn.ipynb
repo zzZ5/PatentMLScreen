{
 "cells": [
  {
   "cell_type": "code",
   "execution_count": 11,
   "metadata": {},
   "outputs": [],
   "source": [
    "import torch\n",
    "from torch.utils.data import Dataset, DataLoader\n",
    "import torch.nn as nn\n",
    "import torch.optim as optim\n",
    "import pandas\n",
    "from scipy import sparse\n",
    "from sklearn.model_selection import train_test_split\n",
    "from sklearn.metrics import accuracy_score"
   ]
  },
  {
   "cell_type": "code",
   "execution_count": 12,
   "metadata": {},
   "outputs": [],
   "source": [
    "#超参数\n",
    "hidden_size = 1024\n",
    "num_classes = 3  # 3个专利类别\n",
    "learning_rate = 0.001\n",
    "batch_size = 1280\n",
    "num_epochs = 50"
   ]
  },
  {
   "cell_type": "code",
   "execution_count": 13,
   "metadata": {},
   "outputs": [],
   "source": [
    "# 读取数据\n",
    "\n",
    "class PatentDataset(Dataset):\n",
    "    def __init__(self, features, labels):\n",
    "        self.features = features\n",
    "        self.labels = labels\n",
    "\n",
    "    def __len__(self):\n",
    "        return len(self.labels)\n",
    "\n",
    "    def __getitem__(self, idx):\n",
    "        return self.features[idx], self.labels[idx]\n",
    "\n",
    "\n",
    "# feature 和 labels 是预处理后的特征和标签\n",
    "features = sparse.load_npz(\"data/patent_verified_tfidf_matrix.npz\")\n",
    "df = pandas.read_csv(\"data/patent_verified.csv\")\n",
    "labels = df[\"y\"].values.tolist()\n",
    "input_size = features.shape[1]  # 特征向量的大小\n",
    "\n",
    "X_train, X_test, y_train, y_test = train_test_split(features.toarray(), labels, test_size=0.3)\n",
    "X_train_tensor = torch.tensor(X_train, dtype=torch.float)\n",
    "y_train_tensor = torch.tensor(y_train, dtype=torch.int)\n",
    "\n",
    "dataset = PatentDataset(X_train_tensor, y_train_tensor)\n",
    "data_loader = DataLoader(dataset=dataset, batch_size=batch_size, shuffle=True)\n"
   ]
  },
  {
   "cell_type": "code",
   "execution_count": 14,
   "metadata": {},
   "outputs": [],
   "source": [
    "# 定义模型\n",
    "\n",
    "class PatentClassifier(nn.Module):\n",
    "    def __init__(self, input_size, hidden_size, num_classes):\n",
    "        super(PatentClassifier, self).__init__()\n",
    "        self.layer1 = nn.Linear(input_size, hidden_size)\n",
    "        self.relu = nn.ReLU()\n",
    "        self.layer2 = nn.Linear(hidden_size, num_classes)\n",
    "        self.softmax = nn.Softmax(dim=1)\n",
    "\n",
    "    def forward(self, x):\n",
    "        out = self.layer1(x)\n",
    "        out = self.relu(out)\n",
    "        out = self.layer2(out)\n",
    "        out = self.softmax(out)\n",
    "        return out\n"
   ]
  },
  {
   "cell_type": "code",
   "execution_count": 15,
   "metadata": {},
   "outputs": [
    {
     "name": "stdout",
     "output_type": "stream",
     "text": [
      "loss: 1.099341  [  216/ 8685]\n",
      "loss: 1.089476  [  216/ 8685]\n",
      "loss: 1.079804  [  216/ 8685]\n",
      "loss: 1.068620  [  216/ 8685]\n",
      "loss: 1.055241  [  216/ 8685]\n",
      "loss: 1.039492  [  216/ 8685]\n",
      "loss: 1.021308  [  216/ 8685]\n",
      "loss: 1.000712  [  216/ 8685]\n",
      "loss: 0.977788  [  216/ 8685]\n",
      "loss: 0.952686  [  216/ 8685]\n",
      "loss: 0.925669  [  216/ 8685]\n",
      "loss: 0.897075  [  216/ 8685]\n",
      "loss: 0.867363  [  216/ 8685]\n",
      "loss: 0.837087  [  216/ 8685]\n",
      "loss: 0.806830  [  216/ 8685]\n",
      "loss: 0.777197  [  216/ 8685]\n",
      "loss: 0.748735  [  216/ 8685]\n",
      "loss: 0.721901  [  216/ 8685]\n",
      "loss: 0.697075  [  216/ 8685]\n",
      "loss: 0.674518  [  216/ 8685]\n",
      "loss: 0.654387  [  216/ 8685]\n",
      "loss: 0.636735  [  216/ 8685]\n",
      "loss: 0.621524  [  216/ 8685]\n",
      "loss: 0.608634  [  216/ 8685]\n",
      "loss: 0.597885  [  216/ 8685]\n",
      "loss: 0.589052  [  216/ 8685]\n",
      "loss: 0.581879  [  216/ 8685]\n",
      "loss: 0.576111  [  216/ 8685]\n",
      "loss: 0.571504  [  216/ 8685]\n",
      "loss: 0.567839  [  216/ 8685]\n",
      "loss: 0.564927  [  216/ 8685]\n",
      "loss: 0.562612  [  216/ 8685]\n",
      "loss: 0.560766  [  216/ 8685]\n",
      "loss: 0.559290  [  216/ 8685]\n",
      "loss: 0.558103  [  216/ 8685]\n",
      "loss: 0.557144  [  216/ 8685]\n",
      "loss: 0.556364  [  216/ 8685]\n",
      "loss: 0.555726  [  216/ 8685]\n",
      "loss: 0.555200  [  216/ 8685]\n",
      "loss: 0.554765  [  216/ 8685]\n",
      "loss: 0.554401  [  216/ 8685]\n",
      "loss: 0.554097  [  216/ 8685]\n",
      "loss: 0.553839  [  216/ 8685]\n",
      "loss: 0.553621  [  216/ 8685]\n",
      "loss: 0.553435  [  216/ 8685]\n",
      "loss: 0.553275  [  216/ 8685]\n",
      "loss: 0.553137  [  216/ 8685]\n",
      "loss: 0.553017  [  216/ 8685]\n",
      "loss: 0.552912  [  216/ 8685]\n",
      "loss: 0.552821  [  216/ 8685]\n"
     ]
    }
   ],
   "source": [
    "# 实例化模型\n",
    "\n",
    "model = PatentClassifier(input_size, hidden_size, num_classes)\n",
    "\n",
    "# 损失函数和优化器\n",
    "criterion = nn.CrossEntropyLoss()\n",
    "optimizer = optim.Adam(model.parameters(), lr=learning_rate)\n",
    "size = len(data_loader.dataset)\n",
    "# 训练模型\n",
    "for epoch in range(num_epochs):\n",
    "    for batch, (inputs, targets) in enumerate(data_loader):\n",
    "        # 前向传播\n",
    "        outputs = model(inputs.float())\n",
    "        loss = criterion(outputs, targets.long())\n",
    "\n",
    "        # 反向传播和优化\n",
    "        optimizer.zero_grad()\n",
    "        loss.backward()\n",
    "        optimizer.step()\n",
    "        if batch % 100 == 0:\n",
    "            loss, current = loss.item(), (batch + 1) * len(inputs)\n",
    "            print(f\"loss: {loss:>7f}  [{current:>5d}/{input_size:>5d}]\")"
   ]
  },
  {
   "cell_type": "code",
   "execution_count": 16,
   "metadata": {},
   "outputs": [
    {
     "name": "stdout",
     "output_type": "stream",
     "text": [
      "tensor([1, 0, 0, 0, 0, 0, 0, 1, 0, 1, 2, 1, 2, 2, 2, 0, 1, 1, 1, 0, 1, 1, 0, 0,\n",
      "        0, 1, 1, 0, 0, 2, 0, 1, 1, 2, 0, 1, 1, 1, 1, 1, 1, 1, 1, 0, 1, 0, 0, 2,\n",
      "        0, 2, 1, 0, 1, 0, 0, 0, 2, 1, 0, 2, 1, 1, 0, 0, 0, 2, 2, 0, 2, 2, 1, 0,\n",
      "        2, 2, 1, 0, 0, 1, 1, 1, 0, 2, 2, 0, 1, 0, 1, 2, 2, 1, 0, 1, 1],\n",
      "       dtype=torch.int32) tensor([1, 0, 0, 1, 1, 0, 1, 1, 0, 1, 1, 1, 1, 1, 0, 1, 1, 1, 0, 1, 1, 1, 1, 2,\n",
      "        0, 1, 1, 0, 1, 0, 0, 1, 1, 1, 1, 1, 1, 1, 1, 2, 2, 1, 1, 0, 2, 0, 0, 1,\n",
      "        1, 1, 1, 0, 1, 0, 1, 1, 2, 0, 0, 2, 1, 1, 0, 2, 0, 1, 2, 0, 0, 2, 1, 1,\n",
      "        0, 2, 1, 1, 0, 0, 1, 1, 1, 1, 2, 1, 1, 0, 1, 2, 0, 1, 2, 0, 1],\n",
      "       dtype=torch.int32)\n",
      "Test Accuracy: 0.5913978494623656\n"
     ]
    }
   ],
   "source": [
    "X_test_tensor = torch.tensor(X_test, dtype=torch.float)\n",
    "y_test_tensor = torch.tensor(y_test, dtype=torch.int)\n",
    "\n",
    "model.eval()\n",
    "with torch.no_grad():\n",
    "    predicted = model(X_test_tensor)\n",
    "    predicted_classes = predicted.argmax(dim=1)\n",
    "    # 将预测转换为整数类型\n",
    "    predicted_classes = predicted_classes.int()\n",
    "    print(y_test_tensor, predicted_classes)\n",
    "    accuracy = accuracy_score(y_test_tensor, predicted_classes)\n",
    "    print(f'Test Accuracy: {accuracy}')"
   ]
  }
 ],
 "metadata": {
  "kernelspec": {
   "display_name": "Python 3",
   "language": "python",
   "name": "python3"
  },
  "language_info": {
   "codemirror_mode": {
    "name": "ipython",
    "version": 3
   },
   "file_extension": ".py",
   "mimetype": "text/x-python",
   "name": "python",
   "nbconvert_exporter": "python",
   "pygments_lexer": "ipython3",
   "version": "3.11.4"
  }
 },
 "nbformat": 4,
 "nbformat_minor": 2
}
