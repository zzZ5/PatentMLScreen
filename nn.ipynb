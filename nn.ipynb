{
 "cells": [
  {
   "cell_type": "code",
   "execution_count": 1,
   "metadata": {},
   "outputs": [],
   "source": [
    "import torch\n",
    "from torch.utils.data import Dataset, DataLoader\n",
    "import torch.nn as nn\n",
    "import torch.optim as optim\n",
    "import pandas\n",
    "from scipy import sparse\n",
    "from sklearn.model_selection import train_test_split\n",
    "from sklearn.metrics import accuracy_score"
   ]
  },
  {
   "cell_type": "code",
   "execution_count": 95,
   "metadata": {},
   "outputs": [],
   "source": [
    "#超参数\n",
    "hidden_size = 2048\n",
    "num_classes = 3  # 3个专利类别\n",
    "learning_rate = 0.001\n",
    "batch_size = 4096\n",
    "num_epochs = 10"
   ]
  },
  {
   "cell_type": "code",
   "execution_count": 96,
   "metadata": {},
   "outputs": [],
   "source": [
    "# 读取数据\n",
    "\n",
    "class PatentDataset(Dataset):\n",
    "    def __init__(self, features, labels):\n",
    "        self.features = features\n",
    "        self.labels = labels\n",
    "\n",
    "    def __len__(self):\n",
    "        return len(self.labels)\n",
    "\n",
    "    def __getitem__(self, idx):\n",
    "        return self.features[idx], self.labels[idx]\n",
    "\n",
    "\n",
    "# feature 和 labels 是预处理后的特征和标签\n",
    "features = sparse.load_npz(\"data/patent_verified_tfidf_matrix.npz\")\n",
    "df = pandas.read_csv(\"data/patent_verified.csv\")\n",
    "labels = df[\"y\"].values.tolist()\n",
    "input_size = features.shape[1]  # 特征向量的大小\n",
    "\n",
    "X_train, X_test, y_train, y_test = train_test_split(features.toarray(), labels, test_size=0.3)\n",
    "X_train_tensor = torch.tensor(X_train, dtype=torch.float)\n",
    "y_train_tensor = torch.tensor(y_train, dtype=torch.int)\n",
    "\n",
    "dataset = PatentDataset(X_train_tensor, y_train_tensor)\n",
    "data_loader = DataLoader(dataset=dataset, batch_size=batch_size, shuffle=True)\n"
   ]
  },
  {
   "cell_type": "code",
   "execution_count": 97,
   "metadata": {},
   "outputs": [],
   "source": [
    "# 定义模型\n",
    "\n",
    "class PatentClassifier(nn.Module):\n",
    "    def __init__(self, input_size, hidden_size, num_classes):\n",
    "        super(PatentClassifier, self).__init__()\n",
    "        self.layer1 = nn.Linear(input_size, hidden_size)\n",
    "        self.relu = nn.ReLU()\n",
    "        self.layer2 = nn.Linear(hidden_size, num_classes)\n",
    "        self.softmax = nn.Softmax(dim=1)\n",
    "\n",
    "    def forward(self, x):\n",
    "        out = self.layer1(x)\n",
    "        out = self.relu(out)\n",
    "        out = self.layer2(out)\n",
    "        out = self.softmax(out)\n",
    "        return out\n"
   ]
  },
  {
   "cell_type": "code",
   "execution_count": 98,
   "metadata": {},
   "outputs": [
    {
     "name": "stdout",
     "output_type": "stream",
     "text": [
      "Epoch 1/10, Loss: 1.0990134477615356\n",
      "Epoch 2/10, Loss: 1.0854089260101318\n",
      "Epoch 3/10, Loss: 1.0712385177612305\n",
      "Epoch 4/10, Loss: 1.0540748834609985\n",
      "Epoch 5/10, Loss: 1.0330232381820679\n",
      "Epoch 6/10, Loss: 1.007814884185791\n",
      "Epoch 7/10, Loss: 0.9785200953483582\n",
      "Epoch 8/10, Loss: 0.9455225467681885\n",
      "Epoch 9/10, Loss: 0.9095019698143005\n",
      "Epoch 10/10, Loss: 0.8714037537574768\n"
     ]
    }
   ],
   "source": [
    "# 实例化模型\n",
    "\n",
    "model = PatentClassifier(input_size, hidden_size, num_classes)\n",
    "\n",
    "# 损失函数和优化器\n",
    "criterion = nn.CrossEntropyLoss()\n",
    "optimizer = optim.Adam(model.parameters(), lr=learning_rate)\n",
    "size = len(data_loader.dataset)\n",
    "# 训练模型\n",
    "for epoch in range(num_epochs):\n",
    "    for batch, (inputs, targets) in enumerate(data_loader):\n",
    "        # 前向传播\n",
    "        outputs = model(inputs.float())\n",
    "        loss = criterion(outputs, targets.long())\n",
    "\n",
    "        # 反向传播和优化\n",
    "        optimizer.zero_grad()\n",
    "        loss.backward()\n",
    "        optimizer.step()\n",
    "    print(f'Epoch {epoch+1}/{num_epochs}, Loss: {loss.item()}')"
   ]
  },
  {
   "cell_type": "code",
   "execution_count": 99,
   "metadata": {},
   "outputs": [
    {
     "name": "stdout",
     "output_type": "stream",
     "text": [
      "Train Accuracy: 0.9861111111111112\n",
      "tensor([0, 1, 2, 1, 0, 1, 2, 1, 0, 1, 2, 2, 1, 1, 2, 1, 1, 1, 1, 1, 1, 1, 0, 0,\n",
      "        2, 1, 0, 0, 0, 0, 1, 2, 1, 1, 1, 2, 0, 1, 0, 2, 0, 2, 1, 0, 0, 0, 1, 0,\n",
      "        0, 1, 2, 0, 2, 1, 0, 2, 0, 0, 1, 1, 1, 1, 1, 1, 0, 0, 1, 1, 0, 1, 1, 1,\n",
      "        2, 0, 0, 2, 1, 0, 0, 0, 1, 0, 1, 0, 2, 1, 1, 2, 1, 0, 1, 2, 1],\n",
      "       dtype=torch.int32) tensor([1, 1, 1, 1, 0, 1, 1, 1, 1, 1, 1, 1, 1, 1, 1, 1, 1, 1, 1, 1, 1, 0, 1, 0,\n",
      "        1, 1, 1, 0, 1, 1, 1, 0, 1, 1, 1, 1, 1, 1, 1, 1, 0, 0, 0, 1, 1, 1, 1, 1,\n",
      "        1, 1, 1, 1, 1, 1, 0, 1, 1, 0, 1, 1, 1, 0, 1, 1, 1, 1, 1, 1, 0, 1, 1, 0,\n",
      "        1, 0, 1, 0, 1, 0, 1, 1, 1, 0, 1, 1, 1, 1, 1, 1, 1, 1, 1, 2, 1],\n",
      "       dtype=torch.int32)\n",
      "Test Accuracy: 0.5376344086021505\n"
     ]
    }
   ],
   "source": [
    "X_test_tensor = torch.tensor(X_test, dtype=torch.float)\n",
    "y_test_tensor = torch.tensor(y_test, dtype=torch.int)\n",
    "\n",
    "model.eval()\n",
    "with torch.no_grad():\n",
    "    predicted = model(X_train_tensor)\n",
    "    # 将预测转换为整数类型\n",
    "    predicted_classes = predicted.argmax(dim=1).int()\n",
    "    accuracy = accuracy_score(y_train_tensor, predicted_classes)\n",
    "    print(f'Train Accuracy: {accuracy}')\n",
    "\n",
    "    predicted = model(X_test_tensor)\n",
    "    # 将预测转换为整数类型\n",
    "    predicted_classes = predicted.argmax(dim=1).int()\n",
    "    print(y_test_tensor, predicted_classes)\n",
    "    accuracy = accuracy_score(y_test_tensor, predicted_classes)\n",
    "    print(f'Test Accuracy: {accuracy}')"
   ]
  }
 ],
 "metadata": {
  "kernelspec": {
   "display_name": "Python 3",
   "language": "python",
   "name": "python3"
  },
  "language_info": {
   "codemirror_mode": {
    "name": "ipython",
    "version": 3
   },
   "file_extension": ".py",
   "mimetype": "text/x-python",
   "name": "python",
   "nbconvert_exporter": "python",
   "pygments_lexer": "ipython3",
   "version": "3.11.4"
  }
 },
 "nbformat": 4,
 "nbformat_minor": 2
}
