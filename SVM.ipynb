{
 "cells": [
  {
   "cell_type": "code",
   "execution_count": 3,
   "metadata": {},
   "outputs": [],
   "source": [
    "import pandas\n",
    "from scipy import sparse\n",
    "from sklearn.model_selection import train_test_split\n",
    "from sklearn.svm import SVC\n",
    "from sklearn.metrics import classification_report"
   ]
  },
  {
   "cell_type": "code",
   "execution_count": 4,
   "metadata": {},
   "outputs": [],
   "source": [
    "# feature 和 labels 是预处理后的特征和标签\n",
    "features = sparse.load_npz(\"data/patent_verified_tfidf_matrix.npz\")\n",
    "df = pandas.read_csv(\"data/patent_verified.csv\")\n",
    "labels = df[\"y\"].values.tolist()"
   ]
  },
  {
   "cell_type": "code",
   "execution_count": 8,
   "metadata": {},
   "outputs": [
    {
     "name": "stdout",
     "output_type": "stream",
     "text": [
      "              precision    recall  f1-score   support\n",
      "\n",
      "           0       0.48      0.44      0.46        36\n",
      "           1       0.47      0.71      0.57        35\n",
      "           2       0.71      0.23      0.34        22\n",
      "\n",
      "    accuracy                           0.49        93\n",
      "   macro avg       0.56      0.46      0.46        93\n",
      "weighted avg       0.53      0.49      0.47        93\n",
      "\n"
     ]
    }
   ],
   "source": [
    "# 划分训练集和测试集\n",
    "X_train, X_test, y_train, y_test = train_test_split(features, labels, test_size=0.3, random_state=42)\n",
    "\n",
    "# 选择支持向量机作为分类器\n",
    "model = SVC(kernel='linear')  # 你可以尝试不同的核，例如 'linear', 'rbf', 'poly'\n",
    "\n",
    "# 训练模型\n",
    "model.fit(X_train, y_train)\n",
    "\n",
    "# 在测试集上进行预测\n",
    "predictions = model.predict(X_test)\n",
    "\n",
    "# 评估模型性能\n",
    "report = classification_report(y_test, predictions)\n",
    "print(report)\n"
   ]
  }
 ],
 "metadata": {
  "kernelspec": {
   "display_name": "Python 3",
   "language": "python",
   "name": "python3"
  },
  "language_info": {
   "codemirror_mode": {
    "name": "ipython",
    "version": 3
   },
   "file_extension": ".py",
   "mimetype": "text/x-python",
   "name": "python",
   "nbconvert_exporter": "python",
   "pygments_lexer": "ipython3",
   "version": "3.11.4"
  }
 },
 "nbformat": 4,
 "nbformat_minor": 2
}
